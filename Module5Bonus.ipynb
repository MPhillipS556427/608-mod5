{
 "cells": [
  {
   "cell_type": "code",
   "execution_count": 1,
   "id": "de0555cb-6228-4d04-9fa2-62bfafcebc8e",
   "metadata": {},
   "outputs": [],
   "source": [
    "import pandas as pd"
   ]
  },
  {
   "cell_type": "code",
   "execution_count": 6,
   "id": "68db53b1-83ab-4e0a-b7cf-24a8eac72fe3",
   "metadata": {},
   "outputs": [],
   "source": [
    "zips = pd.Series({'Boston':'02215', 'Miami':'3310', 'Chicago':'60615',\n",
    "                  'Little Rock':'72202'})"
   ]
  },
  {
   "cell_type": "code",
   "execution_count": 7,
   "id": "ec5ae795-5b28-4cc7-a379-97e4d230f207",
   "metadata": {},
   "outputs": [
    {
     "data": {
      "text/plain": [
       "Boston         02215\n",
       "Miami           3310\n",
       "Chicago        60615\n",
       "Little Rock    72202\n",
       "dtype: object"
      ]
     },
     "execution_count": 7,
     "metadata": {},
     "output_type": "execute_result"
    }
   ],
   "source": [
    "zips"
   ]
  },
  {
   "cell_type": "code",
   "execution_count": 8,
   "id": "4b5a063b-3db5-4e5b-b8d5-c3243f07a2ca",
   "metadata": {},
   "outputs": [
    {
     "data": {
      "text/plain": [
       "Boston          True\n",
       "Miami          False\n",
       "Chicago         True\n",
       "Little Rock     True\n",
       "dtype: bool"
      ]
     },
     "execution_count": 8,
     "metadata": {},
     "output_type": "execute_result"
    }
   ],
   "source": [
    "zips.str.match(r'\\d{5}')"
   ]
  },
  {
   "cell_type": "code",
   "execution_count": 14,
   "id": "7d27b76d-1c34-4ec1-94b9-70f684eb5c5a",
   "metadata": {},
   "outputs": [
    {
     "name": "stdout",
     "output_type": "stream",
     "text": [
      "zipcode work completed by Malcolm Phillip\n"
     ]
    }
   ],
   "source": [
    "print('zipcode work completed by Malcolm Phillip')"
   ]
  },
  {
   "cell_type": "code",
   "execution_count": 15,
   "id": "0f88a090-e25e-4163-9a3e-da01479c0063",
   "metadata": {},
   "outputs": [],
   "source": [
    "cities = pd.Series(['Boston, MA 02215', 'Miami, FL 33101', 'Chicago, IL 60615',\n",
    "                  'Little Rock, AR 72202'])"
   ]
  },
  {
   "cell_type": "code",
   "execution_count": 17,
   "id": "29626c62-244f-4487-9128-440687ef5f3b",
   "metadata": {},
   "outputs": [
    {
     "data": {
      "text/plain": [
       "0         Boston, MA 02215\n",
       "1          Miami, FL 33101\n",
       "2        Chicago, IL 60615\n",
       "3    Little Rock, AR 72202\n",
       "dtype: object"
      ]
     },
     "execution_count": 17,
     "metadata": {},
     "output_type": "execute_result"
    }
   ],
   "source": [
    "cities"
   ]
  },
  {
   "cell_type": "code",
   "execution_count": 18,
   "id": "aa5c7b2f-ed08-491c-b231-1c906428cf3b",
   "metadata": {},
   "outputs": [
    {
     "data": {
      "text/plain": [
       "0    True\n",
       "1    True\n",
       "2    True\n",
       "3    True\n",
       "dtype: bool"
      ]
     },
     "execution_count": 18,
     "metadata": {},
     "output_type": "execute_result"
    }
   ],
   "source": [
    "cities.str.contains(r' [A-Z]{2} ')"
   ]
  },
  {
   "cell_type": "code",
   "execution_count": 20,
   "id": "10d475f1-6de8-4623-9359-1a9b988828d3",
   "metadata": {},
   "outputs": [
    {
     "data": {
      "text/plain": [
       "0    False\n",
       "1    False\n",
       "2    False\n",
       "3    False\n",
       "dtype: bool"
      ]
     },
     "execution_count": 20,
     "metadata": {},
     "output_type": "execute_result"
    }
   ],
   "source": [
    "cities.str.match(r' [A-Z]{2} ')"
   ]
  },
  {
   "cell_type": "code",
   "execution_count": 21,
   "id": "72d39fa5-83ee-4ca4-a3c7-88cbb8e06167",
   "metadata": {},
   "outputs": [
    {
     "name": "stdout",
     "output_type": "stream",
     "text": [
      "city names work completed by Malcolm Phillip\n"
     ]
    }
   ],
   "source": [
    "print('city names work completed by Malcolm Phillip')"
   ]
  },
  {
   "cell_type": "code",
   "execution_count": 23,
   "id": "70cedca6-9b1f-4513-abf5-85bebc9c014c",
   "metadata": {},
   "outputs": [],
   "source": [
    "contacts = [['Mike Jones', 'mikejones@gmail.com', '5551238004'],\n",
    "            ['Michael Jackson', 'michaeljackson@yahoo.com', '5553214008'],\n",
    "            ['Ed Sheeran', 'edwardsheeran@outlook.com', '5552311579'],\n",
    "           ['Chicago Bears', 'chitownbears@info.com', '7736061544']]"
   ]
  },
  {
   "cell_type": "code",
   "execution_count": 24,
   "id": "971f9700-c2d5-416e-8103-2e69aee64c0d",
   "metadata": {},
   "outputs": [],
   "source": [
    "contactsdf = pd.DataFrame(contacts, columns=['Name', 'Email', 'Phone'])"
   ]
  },
  {
   "cell_type": "code",
   "execution_count": 25,
   "id": "7c279235-d782-4817-ab31-4353ac86be0e",
   "metadata": {},
   "outputs": [
    {
     "data": {
      "text/html": [
       "<div>\n",
       "<style scoped>\n",
       "    .dataframe tbody tr th:only-of-type {\n",
       "        vertical-align: middle;\n",
       "    }\n",
       "\n",
       "    .dataframe tbody tr th {\n",
       "        vertical-align: top;\n",
       "    }\n",
       "\n",
       "    .dataframe thead th {\n",
       "        text-align: right;\n",
       "    }\n",
       "</style>\n",
       "<table border=\"1\" class=\"dataframe\">\n",
       "  <thead>\n",
       "    <tr style=\"text-align: right;\">\n",
       "      <th></th>\n",
       "      <th>Name</th>\n",
       "      <th>Email</th>\n",
       "      <th>Phone</th>\n",
       "    </tr>\n",
       "  </thead>\n",
       "  <tbody>\n",
       "    <tr>\n",
       "      <th>0</th>\n",
       "      <td>Mike Jones</td>\n",
       "      <td>mikejones@gmail.com</td>\n",
       "      <td>5551238004</td>\n",
       "    </tr>\n",
       "    <tr>\n",
       "      <th>1</th>\n",
       "      <td>Michael Jackson</td>\n",
       "      <td>michaeljackson@yahoo.com</td>\n",
       "      <td>5553214008</td>\n",
       "    </tr>\n",
       "    <tr>\n",
       "      <th>2</th>\n",
       "      <td>Ed Sheeran</td>\n",
       "      <td>edwardsheeran@outlook.com</td>\n",
       "      <td>5552311579</td>\n",
       "    </tr>\n",
       "    <tr>\n",
       "      <th>3</th>\n",
       "      <td>Chicago Bears</td>\n",
       "      <td>chitownbears@info.com</td>\n",
       "      <td>7736061544</td>\n",
       "    </tr>\n",
       "  </tbody>\n",
       "</table>\n",
       "</div>"
      ],
      "text/plain": [
       "              Name                      Email       Phone\n",
       "0       Mike Jones        mikejones@gmail.com  5551238004\n",
       "1  Michael Jackson   michaeljackson@yahoo.com  5553214008\n",
       "2       Ed Sheeran  edwardsheeran@outlook.com  5552311579\n",
       "3    Chicago Bears      chitownbears@info.com  7736061544"
      ]
     },
     "execution_count": 25,
     "metadata": {},
     "output_type": "execute_result"
    }
   ],
   "source": [
    "contactsdf"
   ]
  },
  {
   "cell_type": "code",
   "execution_count": 26,
   "id": "7357e5d0-b19c-427b-811b-da4506d67b4a",
   "metadata": {},
   "outputs": [],
   "source": [
    "import re"
   ]
  },
  {
   "cell_type": "code",
   "execution_count": 27,
   "id": "d8b530fd-11be-41de-87a3-9b7f86a50c82",
   "metadata": {},
   "outputs": [],
   "source": [
    "def get_formatted_phone(value):\n",
    "    result = re.fullmatch(r'(\\d{3})(\\d{3})(\\d{4})', value)\n",
    "    return '-'.join(result.groups()) if result else value\n"
   ]
  },
  {
   "cell_type": "code",
   "execution_count": 29,
   "id": "ab321d34-d402-4578-9c0f-9642d2d5a1bb",
   "metadata": {},
   "outputs": [],
   "source": [
    "formatted_phone = contactsdf['Phone'].map(get_formatted_phone)"
   ]
  },
  {
   "cell_type": "code",
   "execution_count": 30,
   "id": "0d297e03-80af-42a2-97ce-3ec7c8e2e21d",
   "metadata": {},
   "outputs": [
    {
     "data": {
      "text/plain": [
       "0    555-123-8004\n",
       "1    555-321-4008\n",
       "2    555-231-1579\n",
       "3    773-606-1544\n",
       "Name: Phone, dtype: object"
      ]
     },
     "execution_count": 30,
     "metadata": {},
     "output_type": "execute_result"
    }
   ],
   "source": [
    "formatted_phone"
   ]
  },
  {
   "cell_type": "code",
   "execution_count": 31,
   "id": "9d8d59ff-b464-4c3d-8588-7fca6f61782f",
   "metadata": {},
   "outputs": [],
   "source": [
    "contactsdf['Phone'] = formatted_phone"
   ]
  },
  {
   "cell_type": "code",
   "execution_count": 32,
   "id": "07519434-fad4-49a3-8b37-d695e8fa5962",
   "metadata": {},
   "outputs": [
    {
     "data": {
      "text/html": [
       "<div>\n",
       "<style scoped>\n",
       "    .dataframe tbody tr th:only-of-type {\n",
       "        vertical-align: middle;\n",
       "    }\n",
       "\n",
       "    .dataframe tbody tr th {\n",
       "        vertical-align: top;\n",
       "    }\n",
       "\n",
       "    .dataframe thead th {\n",
       "        text-align: right;\n",
       "    }\n",
       "</style>\n",
       "<table border=\"1\" class=\"dataframe\">\n",
       "  <thead>\n",
       "    <tr style=\"text-align: right;\">\n",
       "      <th></th>\n",
       "      <th>Name</th>\n",
       "      <th>Email</th>\n",
       "      <th>Phone</th>\n",
       "    </tr>\n",
       "  </thead>\n",
       "  <tbody>\n",
       "    <tr>\n",
       "      <th>0</th>\n",
       "      <td>Mike Jones</td>\n",
       "      <td>mikejones@gmail.com</td>\n",
       "      <td>555-123-8004</td>\n",
       "    </tr>\n",
       "    <tr>\n",
       "      <th>1</th>\n",
       "      <td>Michael Jackson</td>\n",
       "      <td>michaeljackson@yahoo.com</td>\n",
       "      <td>555-321-4008</td>\n",
       "    </tr>\n",
       "    <tr>\n",
       "      <th>2</th>\n",
       "      <td>Ed Sheeran</td>\n",
       "      <td>edwardsheeran@outlook.com</td>\n",
       "      <td>555-231-1579</td>\n",
       "    </tr>\n",
       "    <tr>\n",
       "      <th>3</th>\n",
       "      <td>Chicago Bears</td>\n",
       "      <td>chitownbears@info.com</td>\n",
       "      <td>773-606-1544</td>\n",
       "    </tr>\n",
       "  </tbody>\n",
       "</table>\n",
       "</div>"
      ],
      "text/plain": [
       "              Name                      Email         Phone\n",
       "0       Mike Jones        mikejones@gmail.com  555-123-8004\n",
       "1  Michael Jackson   michaeljackson@yahoo.com  555-321-4008\n",
       "2       Ed Sheeran  edwardsheeran@outlook.com  555-231-1579\n",
       "3    Chicago Bears      chitownbears@info.com  773-606-1544"
      ]
     },
     "execution_count": 32,
     "metadata": {},
     "output_type": "execute_result"
    }
   ],
   "source": [
    "contactsdf"
   ]
  },
  {
   "cell_type": "code",
   "execution_count": 33,
   "id": "e74c0d38-fff6-4ba0-b918-7b70e0c05084",
   "metadata": {},
   "outputs": [
    {
     "name": "stdout",
     "output_type": "stream",
     "text": [
      "DataFrames & reformatting work completed by Malcolm Phillip\n"
     ]
    }
   ],
   "source": [
    "print('DataFrames & reformatting work completed by Malcolm Phillip')"
   ]
  },
  {
   "cell_type": "code",
   "execution_count": null,
   "id": "f0de928b-d215-4074-bc0f-567cb20a3bcf",
   "metadata": {},
   "outputs": [],
   "source": []
  }
 ],
 "metadata": {
  "kernelspec": {
   "display_name": "Python 3",
   "language": "python",
   "name": "python3"
  },
  "language_info": {
   "codemirror_mode": {
    "name": "ipython",
    "version": 3
   },
   "file_extension": ".py",
   "mimetype": "text/x-python",
   "name": "python",
   "nbconvert_exporter": "python",
   "pygments_lexer": "ipython3",
   "version": "3.9.12"
  }
 },
 "nbformat": 4,
 "nbformat_minor": 5
}
